{
  "nbformat": 4,
  "nbformat_minor": 0,
  "metadata": {
    "colab": {
      "name": "Buy and hold",
      "provenance": []
    },
    "kernelspec": {
      "name": "python3",
      "display_name": "Python 3"
    },
    "language_info": {
      "name": "python"
    }
  },
  "cells": [
    {
      "cell_type": "code",
      "metadata": {
        "id": "IsvrrxgwCOuC"
      },
      "source": [
        "# dados de crypto = vbt.BinanceData.download('BTCBRL', start='2021-10-01', interval='1m').get()\n",
        "# dados de acao = vbt.YFData.download('ITUB3.SA', start='2021-10-01', interval='1d').get()\n",
        "\n",
        "# 'variavel'.stats() para obter um summary da performance\n",
        "# 'variavel'.total_profit() para obter o profit/loss"
      ],
      "execution_count": 1,
      "outputs": []
    },
    {
      "cell_type": "code",
      "metadata": {
        "id": "tFuiqcz-c_3v"
      },
      "source": [
        "import numpy as np\n",
        "import pandas as pd\n",
        "from google.colab import files\n",
        "import matplotlib.pyplot as plt\n",
        "import pandas_datareader.data as web\n",
        "!pip install vectorbt\n",
        "!pip install python-binance\n",
        "!pip install yfinance\n",
        "import yfinance as yf\n",
        "import vectorbt as vbt"
      ],
      "execution_count": null,
      "outputs": []
    },
    {
      "cell_type": "code",
      "metadata": {
        "colab": {
          "base_uri": "https://localhost:8080/"
        },
        "id": "8bCR4tzL7Q6h",
        "outputId": "3516be3f-bad8-40bf-8e88-1bb0fdf36ace"
      },
      "source": [
        "# para testar buy and hold\n",
        "# price = vbt.YFData.download('xyz_ativo').get('Close') # assim puxa desde o inicio do ativo\n",
        "\n",
        "j = ['ITUB3.SA','ccj','BPAC3.SA','tsla','goog']\n",
        "\n",
        "for i in j:\n",
        "  price = vbt.YFData.download(i).get('Close')\n",
        "  pf = vbt.Portfolio.from_holding(price, init_cash=100) # em init_cash, colcar o valor investido\n",
        "  pl = pf.total_profit()\n",
        "  print(i,\" - Valor final:  \", pl)\n"
      ],
      "execution_count": 4,
      "outputs": [
        {
          "output_type": "stream",
          "name": "stdout",
          "text": [
            "ITUB3.SA  - Valor final:   1476.5261495756638\n",
            "ccj  - Valor final:   316.6604297358181\n",
            "BPAC3.SA  - Valor final:   1391.5470979935678\n",
            "tsla  - Valor final:   23257.053757053756\n",
            "goog  - Valor final:   5770.736804218199\n"
          ]
        }
      ]
    }
  ]
}